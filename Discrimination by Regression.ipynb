{
 "cells": [
  {
   "cell_type": "markdown",
   "metadata": {},
   "source": [
    "## Homework 03: Discrimination by Regression"
   ]
  },
  {
   "cell_type": "markdown",
   "metadata": {},
   "source": [
    "### This homework solves discrimination by regression algorithm for multiclass classification"
   ]
  },
  {
   "cell_type": "code",
   "execution_count": 1,
   "metadata": {},
   "outputs": [],
   "source": [
    "import pandas as pd\n",
    "import math\n",
    "import matplotlib.pyplot as plt\n",
    "import numpy as np\n",
    "import scipy.stats as stats\n",
    "from scipy.stats import multivariate_normal\n",
    "%matplotlib inline\n",
    "\n",
    "def safelog(x):\n",
    "    return(np.log(x + 1e-100))   #we define this in order to get rid of -inf, inf of np.log(0). never gives 0"
   ]
  },
  {
   "cell_type": "markdown",
   "metadata": {},
   "source": [
    "## Question 2"
   ]
  },
  {
   "cell_type": "markdown",
   "metadata": {},
   "source": [
    "### 3 classes with specified means, covariances and and sizes were generated with labels '1', '2' and '3'. The points were generated with bivariate Gaussian densities and plotted."
   ]
  },
  {
   "cell_type": "code",
   "execution_count": 2,
   "metadata": {},
   "outputs": [],
   "source": [
    "#Creating arrays of class means, covariances and sizes. \n",
    "\n",
    "means = np.array([[0.0, +2.5],[-2.5, -2.0],[+2.5, -2.0]])\n",
    "\n",
    "covs = np.array([[[+3.2, +0.0], [+0.0, +1.2]],[[+1.2, +0.8], [+0.8, +1.2]],[[+1.2, -0.8], [-0.8, +1.2]]])\n",
    "\n",
    "class_sizes = np.array([120,80,100])"
   ]
  },
  {
   "cell_type": "code",
   "execution_count": 3,
   "metadata": {},
   "outputs": [],
   "source": [
    "#Creating points\n",
    "points1 = np.random.multivariate_normal(means[0], covs[0], class_sizes[0])\n",
    "points2 = np.random.multivariate_normal(means[1], covs[1], class_sizes[1])\n",
    "points3 = np.random.multivariate_normal(means[2], covs[2], class_sizes[2])\n",
    "\n",
    "points = np.concatenate((points1,points2,points3))\n",
    "\n",
    "#Creating Class Labels\n",
    "y = np.concatenate((np.repeat(1, class_sizes[0]),np.repeat(2, class_sizes[1]), np.repeat(3, class_sizes[2])))"
   ]
  },
  {
   "cell_type": "code",
   "execution_count": 4,
   "metadata": {},
   "outputs": [
    {
     "data": {
      "image/png": "[encoded data removed]",
      "text/plain": [
       "<Figure size 576x576 with 1 Axes>"
      ]
     },
     "metadata": {
      "needs_background": "light"
     },
     "output_type": "display_data"
    }
   ],
   "source": [
    "plt.figure(figsize=(8,8))\n",
    "plt.plot(points1[:,0], points1[:,1], \"r.\", markersize = 15)\n",
    "plt.plot(points2[:,0], points2[:,1], \"g.\", markersize = 15)\n",
    "plt.plot(points3[:,0], points3[:,1], \"b.\", markersize = 15)\n",
    "plt.xlabel(\"x1\")\n",
    "plt.ylabel(\"x2\")\n",
    "plt.show()"
   ]
  },
  {
   "cell_type": "markdown",
   "metadata": {},
   "source": [
    "## Question 3"
   ]
  },
  {
   "cell_type": "markdown",
   "metadata": {},
   "source": [
    "### Variable K was assigned for number of classes, which in our case is 3."
   ]
  },
  {
   "cell_type": "code",
   "execution_count": 5,
   "metadata": {},
   "outputs": [],
   "source": [
    "#set number of classes equal to 3\n",
    "K = np.max(y)"
   ]
  },
  {
   "cell_type": "markdown",
   "metadata": {},
   "source": [
    "### In order to compare the predictions with the truth values of y, one-hot-encoding was done which means that matrix of shape 300,3 was created and according to its classes, 1s were placed to the specified column."
   ]
  },
  {
   "cell_type": "code",
   "execution_count": 6,
   "metadata": {},
   "outputs": [],
   "source": [
    "#One hot encoding into K columns\n",
    "\n",
    "y_truth = np.zeros((y.shape[0], K))\n",
    "for i in range(y.shape[0]):\n",
    "    if y[i]==1:\n",
    "        y_truth[i][0]=1\n",
    "    elif y[i]==2:\n",
    "        y_truth[i][1]=1\n",
    "    else:\n",
    "        y_truth[i][2]=1"
   ]
  },
  {
   "cell_type": "markdown",
   "metadata": {},
   "source": [
    "### Sigmoid function was defined and applied to every point in data. In the definition, X represents the input, w represents the weight and w0 represents the bias. Sigmoid function was used in order to show the probabilities of the given vector."
   ]
  },
  {
   "cell_type": "code",
   "execution_count": 7,
   "metadata": {},
   "outputs": [],
   "source": [
    "#Define sigmoid function\n",
    "\n",
    "def sigmoid(X, w, w0):\n",
    "    return(1 / (1 + np.exp(-(np.matmul(X, w) + w0))))"
   ]
  },
  {
   "cell_type": "markdown",
   "metadata": {},
   "source": [
    "### In order to minimize sum squared error, gradient descent was used in order to determine the best weight and biases. Gradient descent was calculated as follows: \n",
    "![title](gradient_func.png)"
   ]
  },
  {
   "cell_type": "code",
   "execution_count": 8,
   "metadata": {},
   "outputs": [],
   "source": [
    "# define the gradient functions\n",
    "def gradient_w(X, y_truth, y_predicted):\n",
    "    return(np.asarray([-np.sum(((y_truth[:,c] - y_predicted[:,c])*y_predicted[:,c]*(1-y_predicted[:,c]))[:,np.newaxis] * points, axis = 0) for c in range(K)]).T)\n",
    "\n",
    "def gradient_w0(y_truth, y_predicted):\n",
    "    return(-np.sum((y_truth - y_predicted)*y_predicted*(1-y_predicted),axis=0))"
   ]
  },
  {
   "cell_type": "markdown",
   "metadata": {},
   "source": [
    "### Learning parameters were set and w and w0 were initialized."
   ]
  },
  {
   "cell_type": "code",
   "execution_count": 9,
   "metadata": {},
   "outputs": [],
   "source": [
    "# set learning parameters\n",
    "eta = 0.01 #Step size\n",
    "epsilon = 0.001 #stopping condition. If change is smaller than epsilon, I will stop. "
   ]
  },
  {
   "cell_type": "code",
   "execution_count": 10,
   "metadata": {},
   "outputs": [],
   "source": [
    "# randomly initalize w and w0\n",
    "w = np.random.uniform(low = -0.01, high = 0.01, size = (points.shape[1],K))\n",
    "w0 = np.random.uniform(low = -0.01, high = 0.01, size = (1,K))"
   ]
  },
  {
   "cell_type": "code",
   "execution_count": 11,
   "metadata": {
    "scrolled": false
   },
   "outputs": [
    {
     "name": "stdout",
     "output_type": "stream",
     "text": [
      "[[ 0.00665846  0.00541099 -0.00796959]\n",
      " [-0.00975683 -0.00820939 -0.00486732]]\n",
      "[[-0.00635789  0.00642106 -0.00542823]]\n"
     ]
    }
   ],
   "source": [
    "print(w)\n",
    "print(w0)"
   ]
  },
  {
   "cell_type": "markdown",
   "metadata": {},
   "source": [
    "### Sum squared errors was used as an error function and gradient descent of w and w0 was used in order to minimize the function. Aim is to minimize w and w0 for Δw0 and Δw. Δw0 and Δw converge to zero while sum squared error is decreasing. Thus, values of w and w0 are being updated at every iteration and when sum squared errors become less than the stopping condition, the iteration stops."
   ]
  },
  {
   "cell_type": "code",
   "execution_count": 12,
   "metadata": {},
   "outputs": [],
   "source": [
    "# learn w and w0 using gradient descent\n",
    "iteration = 1\n",
    "objective_values = [] #error values\n",
    "while 1:\n",
    "    y_predicted = sigmoid(points, w, w0)\n",
    "\n",
    "    objective_values = np.append(objective_values,np.sum((0.5*(y_truth-y_predicted))**2))\n",
    "\n",
    "    w_old = w\n",
    "    w0_old = w0\n",
    "\n",
    "    w = w - eta * gradient_w(points, y_truth, y_predicted)\n",
    "    w0 = w0 - eta * gradient_w0(y_truth, y_predicted)\n",
    "    \n",
    "    #Eucladian distance\n",
    "    if np.sqrt(np.sum((w0 - w0_old))**2 + np.sum((w - w_old)**2)) < epsilon:\n",
    "        break\n",
    "\n",
    "    iteration = iteration + 1"
   ]
  },
  {
   "cell_type": "code",
   "execution_count": 13,
   "metadata": {
    "scrolled": true
   },
   "outputs": [
    {
     "name": "stdout",
     "output_type": "stream",
     "text": [
      "[[-0.03205346 -3.63909739  1.72355868]\n",
      " [ 4.43645945 -3.39300258 -2.0209297 ]]\n",
      "[[-1.08247272 -3.86137143 -3.53463512]]\n"
     ]
    }
   ],
   "source": [
    "print(w)\n",
    "print(w0)"
   ]
  },
  {
   "cell_type": "markdown",
   "metadata": {},
   "source": [
    "## Question 4"
   ]
  },
  {
   "cell_type": "markdown",
   "metadata": {},
   "source": [
    "### Iteration vs error plotted. As it can be seen there had been 2000+ iterations."
   ]
  },
  {
   "cell_type": "code",
   "execution_count": 14,
   "metadata": {
    "scrolled": false
   },
   "outputs": [
    {
     "data": {
      "image/png": "[encoded data removed]",
      "text/plain": [
       "<Figure size 720x432 with 1 Axes>"
      ]
     },
     "metadata": {
      "needs_background": "light"
     },
     "output_type": "display_data"
    }
   ],
   "source": [
    "# plot objective function during iterations\n",
    "plt.figure(figsize = (10, 6))\n",
    "plt.plot(range(1, iteration + 1), objective_values, \"k-\")\n",
    "plt.xlabel(\"Iteration\")\n",
    "plt.ylabel(\"Error\")\n",
    "plt.show()"
   ]
  },
  {
   "cell_type": "markdown",
   "metadata": {},
   "source": [
    "## Question 5"
   ]
  },
  {
   "cell_type": "markdown",
   "metadata": {},
   "source": [
    "### Argmax function was used in order to determine the classes and according to its result, confusion matrix was created. There are 5 misclassified data points out of 300 data points. Thus, there exists 98% accuracy."
   ]
  },
  {
   "cell_type": "code",
   "execution_count": 15,
   "metadata": {},
   "outputs": [],
   "source": [
    "#Assigning each row of dataset its prediction class with argmax function \n",
    "\n",
    "y_train_predicted = np.argmax(y_predicted, axis = 1) + 1\n",
    "y_truth_classes = np.argmax(y_truth, axis = 1) + 1"
   ]
  },
  {
   "cell_type": "code",
   "execution_count": 16,
   "metadata": {
    "scrolled": true
   },
   "outputs": [
    {
     "name": "stdout",
     "output_type": "stream",
     "text": [
      "y_truth    1   2   3\n",
      "y_pred              \n",
      "1        119   2   2\n",
      "2          1  78   0\n",
      "3          0   0  98\n"
     ]
    }
   ],
   "source": [
    "#Creating confusion matrix\n",
    "\n",
    "confusion_matrix = pd.crosstab(y_train_predicted, y_truth_classes, rownames = ['y_pred'], colnames = ['y_truth'])\n",
    "print(confusion_matrix)"
   ]
  },
  {
   "cell_type": "markdown",
   "metadata": {},
   "source": [
    "## Question 6"
   ]
  },
  {
   "cell_type": "markdown",
   "metadata": {},
   "source": [
    "### Since we need linear line, the discriminant equation is linear. Thus, decision boundary was drawn by discriminant values and misclassified data points were marked at the graph."
   ]
  },
  {
   "cell_type": "code",
   "execution_count": 17,
   "metadata": {},
   "outputs": [
    {
     "data": {
      "image/png": "[encoded data removed]",
      "text/plain": [
       "<Figure size 720x720 with 1 Axes>"
      ]
     },
     "metadata": {
      "needs_background": "light"
     },
     "output_type": "display_data"
    }
   ],
   "source": [
    "# evaluate discriminant function on a grid\n",
    "x1_interval = np.linspace(-6, +6, 1201)\n",
    "x2_interval = np.linspace(-6, +6, 1201)\n",
    "x1_grid, x2_grid = np.meshgrid(x1_interval, x2_interval)\n",
    "discriminant_values = np.zeros((len(x1_interval), len(x2_interval), K))\n",
    "for c in range(K):\n",
    "    discriminant_values[:,:,c] = w[0, c] * x1_grid + w[1, c] * x2_grid + w0[0, c]\n",
    "    \n",
    "A = discriminant_values[:,:,0]\n",
    "B = discriminant_values[:,:,1]\n",
    "C = discriminant_values[:,:,2]\n",
    "A[(A < B) & (A < C)] = np.nan\n",
    "B[(B < A) & (B < C)] = np.nan\n",
    "C[(C < A) & (C < B)] = np.nan\n",
    "discriminant_values[:,:,0] = A\n",
    "discriminant_values[:,:,1] = B\n",
    "discriminant_values[:,:,2] = C\n",
    "\n",
    "plt.figure(figsize = (10, 10))\n",
    "plt.plot(points[y == 1, 0], points[y == 1, 1], \"r.\", markersize = 10)\n",
    "plt.plot(points[y == 2, 0], points[y == 2, 1], \"g.\", markersize = 10)\n",
    "plt.plot(points[y == 3, 0], points[y == 3, 1], \"b.\", markersize = 10)\n",
    "plt.plot(points[y_train_predicted != y, 0], points[y_train_predicted != y, 1], \"ko\", markersize = 12, fillstyle = \"none\")\n",
    "plt.contour(x1_grid, x2_grid, discriminant_values[:,:,0] - discriminant_values[:,:,1], levels = 0, colors = \"k\")\n",
    "plt.contour(x1_grid, x2_grid, discriminant_values[:,:,0] - discriminant_values[:,:,2], levels = 0, colors = \"k\")\n",
    "plt.contour(x1_grid, x2_grid, discriminant_values[:,:,1] - discriminant_values[:,:,2], levels = 0, colors = \"k\")\n",
    "plt.xlabel(\"x1\")\n",
    "plt.ylabel(\"x2\")\n",
    "plt.show()"
   ]
  }
 ],
 "metadata": {
  "kernelspec": {
   "display_name": "Python 3",
   "language": "python",
   "name": "python3"
  },
  "language_info": {
   "codemirror_mode": {
    "name": "ipython",
    "version": 3
   },
   "file_extension": ".py",
   "mimetype": "text/x-python",
   "name": "python",
   "nbconvert_exporter": "python",
   "pygments_lexer": "ipython3",
   "version": "3.8.5"
  }
 },
 "nbformat": 4,
 "nbformat_minor": 4
}
