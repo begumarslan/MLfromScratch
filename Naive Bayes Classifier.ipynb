{
 "cells": [
  {
   "cell_type": "markdown",
   "metadata": {},
   "source": [
    "# HW02 - Naive Bayes' Classifier"
   ]
  },
  {
   "cell_type": "markdown",
   "metadata": {},
   "source": [
    "### This homework solves multivariate classification data set with Naive Bayes' Classifier"
   ]
  },
  {
   "cell_type": "code",
   "execution_count": 1,
   "metadata": {},
   "outputs": [],
   "source": [
    "#Import the libraries\n",
    "\n",
    "import matplotlib.pyplot as plt\n",
    "import numpy as np\n",
    "import pandas as pd\n",
    "import math\n",
    "\n",
    "def safelog(x):\n",
    "    return(np.log(x + 1e-100))   #we define this in order to get rid of -inf, inf of np.log(0)"
   ]
  },
  {
   "cell_type": "markdown",
   "metadata": {},
   "source": [
    "### 2 csv files were given which the images file contained 784 pixels (28*28) of images from 5 different classes. Thus, we loaded the csv of pixels of images and their corresponding labels."
   ]
  },
  {
   "cell_type": "code",
   "execution_count": 2,
   "metadata": {},
   "outputs": [],
   "source": [
    "#Read the csv files \n",
    "images = pd.read_csv('hw02_images.csv', header=None)\n",
    "labels = pd.read_csv('hw02_labels.csv', header=None, names=['classes'])"
   ]
  },
  {
   "cell_type": "code",
   "execution_count": 3,
   "metadata": {
    "scrolled": false
   },
   "outputs": [
    {
     "data": {
      "text/html": [
       "<div>\n",
       "<style scoped>\n",
       "    .dataframe tbody tr th:only-of-type {\n",
       "        vertical-align: middle;\n",
       "    }\n",
       "\n",
       "    .dataframe tbody tr th {\n",
       "        vertical-align: top;\n",
       "    }\n",
       "\n",
       "    .dataframe thead th {\n",
       "        text-align: right;\n",
       "    }\n",
       "</style>\n",
       "<table border=\"1\" class=\"dataframe\">\n",
       "  <thead>\n",
       "    <tr style=\"text-align: right;\">\n",
       "      <th></th>\n",
       "      <th>0</th>\n",
       "      <th>1</th>\n",
       "      <th>2</th>\n",
       "      <th>3</th>\n",
       "      <th>4</th>\n",
       "      <th>5</th>\n",
       "      <th>6</th>\n",
       "      <th>7</th>\n",
       "      <th>8</th>\n",
       "      <th>9</th>\n",
       "      <th>...</th>\n",
       "      <th>774</th>\n",
       "      <th>775</th>\n",
       "      <th>776</th>\n",
       "      <th>777</th>\n",
       "      <th>778</th>\n",
       "      <th>779</th>\n",
       "      <th>780</th>\n",
       "      <th>781</th>\n",
       "      <th>782</th>\n",
       "      <th>783</th>\n",
       "    </tr>\n",
       "  </thead>\n",
       "  <tbody>\n",
       "    <tr>\n",
       "      <th>0</th>\n",
       "      <td>255</td>\n",
       "      <td>255</td>\n",
       "      <td>255</td>\n",
       "      <td>255</td>\n",
       "      <td>255</td>\n",
       "      <td>255</td>\n",
       "      <td>255</td>\n",
       "      <td>250</td>\n",
       "      <td>255</td>\n",
       "      <td>255</td>\n",
       "      <td>...</td>\n",
       "      <td>255</td>\n",
       "      <td>255</td>\n",
       "      <td>255</td>\n",
       "      <td>225</td>\n",
       "      <td>212</td>\n",
       "      <td>255</td>\n",
       "      <td>255</td>\n",
       "      <td>255</td>\n",
       "      <td>255</td>\n",
       "      <td>255</td>\n",
       "    </tr>\n",
       "    <tr>\n",
       "      <th>1</th>\n",
       "      <td>255</td>\n",
       "      <td>255</td>\n",
       "      <td>255</td>\n",
       "      <td>254</td>\n",
       "      <td>253</td>\n",
       "      <td>255</td>\n",
       "      <td>255</td>\n",
       "      <td>255</td>\n",
       "      <td>255</td>\n",
       "      <td>255</td>\n",
       "      <td>...</td>\n",
       "      <td>252</td>\n",
       "      <td>255</td>\n",
       "      <td>255</td>\n",
       "      <td>255</td>\n",
       "      <td>255</td>\n",
       "      <td>254</td>\n",
       "      <td>255</td>\n",
       "      <td>255</td>\n",
       "      <td>255</td>\n",
       "      <td>255</td>\n",
       "    </tr>\n",
       "    <tr>\n",
       "      <th>2</th>\n",
       "      <td>255</td>\n",
       "      <td>255</td>\n",
       "      <td>255</td>\n",
       "      <td>255</td>\n",
       "      <td>255</td>\n",
       "      <td>255</td>\n",
       "      <td>255</td>\n",
       "      <td>255</td>\n",
       "      <td>255</td>\n",
       "      <td>255</td>\n",
       "      <td>...</td>\n",
       "      <td>255</td>\n",
       "      <td>255</td>\n",
       "      <td>255</td>\n",
       "      <td>255</td>\n",
       "      <td>255</td>\n",
       "      <td>255</td>\n",
       "      <td>255</td>\n",
       "      <td>255</td>\n",
       "      <td>255</td>\n",
       "      <td>255</td>\n",
       "    </tr>\n",
       "    <tr>\n",
       "      <th>3</th>\n",
       "      <td>255</td>\n",
       "      <td>255</td>\n",
       "      <td>255</td>\n",
       "      <td>250</td>\n",
       "      <td>251</td>\n",
       "      <td>250</td>\n",
       "      <td>250</td>\n",
       "      <td>252</td>\n",
       "      <td>250</td>\n",
       "      <td>249</td>\n",
       "      <td>...</td>\n",
       "      <td>248</td>\n",
       "      <td>247</td>\n",
       "      <td>248</td>\n",
       "      <td>251</td>\n",
       "      <td>252</td>\n",
       "      <td>248</td>\n",
       "      <td>250</td>\n",
       "      <td>255</td>\n",
       "      <td>255</td>\n",
       "      <td>255</td>\n",
       "    </tr>\n",
       "    <tr>\n",
       "      <th>4</th>\n",
       "      <td>255</td>\n",
       "      <td>255</td>\n",
       "      <td>255</td>\n",
       "      <td>255</td>\n",
       "      <td>255</td>\n",
       "      <td>255</td>\n",
       "      <td>255</td>\n",
       "      <td>255</td>\n",
       "      <td>255</td>\n",
       "      <td>255</td>\n",
       "      <td>...</td>\n",
       "      <td>241</td>\n",
       "      <td>255</td>\n",
       "      <td>255</td>\n",
       "      <td>255</td>\n",
       "      <td>255</td>\n",
       "      <td>255</td>\n",
       "      <td>255</td>\n",
       "      <td>255</td>\n",
       "      <td>255</td>\n",
       "      <td>255</td>\n",
       "    </tr>\n",
       "  </tbody>\n",
       "</table>\n",
       "<p>5 rows × 784 columns</p>\n",
       "</div>"
      ],
      "text/plain": [
       "   0    1    2    3    4    5    6    7    8    9    ...  774  775  776  777  \\\n",
       "0  255  255  255  255  255  255  255  250  255  255  ...  255  255  255  225   \n",
       "1  255  255  255  254  253  255  255  255  255  255  ...  252  255  255  255   \n",
       "2  255  255  255  255  255  255  255  255  255  255  ...  255  255  255  255   \n",
       "3  255  255  255  250  251  250  250  252  250  249  ...  248  247  248  251   \n",
       "4  255  255  255  255  255  255  255  255  255  255  ...  241  255  255  255   \n",
       "\n",
       "   778  779  780  781  782  783  \n",
       "0  212  255  255  255  255  255  \n",
       "1  255  254  255  255  255  255  \n",
       "2  255  255  255  255  255  255  \n",
       "3  252  248  250  255  255  255  \n",
       "4  255  255  255  255  255  255  \n",
       "\n",
       "[5 rows x 784 columns]"
      ]
     },
     "execution_count": 3,
     "metadata": {},
     "output_type": "execute_result"
    }
   ],
   "source": [
    "#See sample of images data frame\n",
    "images.head()"
   ]
  },
  {
   "cell_type": "markdown",
   "metadata": {},
   "source": [
    "### When data was analyzed, there were in total of 5 classes whose numbers were also starting from 1."
   ]
  },
  {
   "cell_type": "code",
   "execution_count": 4,
   "metadata": {
    "scrolled": true
   },
   "outputs": [
    {
     "name": "stdout",
     "output_type": "stream",
     "text": [
      "Number of classes are: classes    5\n",
      "dtype: int64\n",
      "Minimum class is: classes    1\n",
      "dtype: int64\n"
     ]
    }
   ],
   "source": [
    "#Shows that there are 5 classes present\n",
    "print('Number of classes are: {}'.format(np.max(labels)))\n",
    "print('Minimum class is: {}'.format(np.min(labels)))"
   ]
  },
  {
   "cell_type": "markdown",
   "metadata": {},
   "source": [
    "## Question 3:"
   ]
  },
  {
   "cell_type": "markdown",
   "metadata": {},
   "source": [
    "### The data was splitted into training and test data sets which first 30000 rows were given to training data and the remaining 50000 images were given to test data. Both data sets contained 784 features."
   ]
  },
  {
   "cell_type": "code",
   "execution_count": 5,
   "metadata": {},
   "outputs": [],
   "source": [
    "#Splitting data into test and train datasets\n",
    "\n",
    "x_train = images[:30000]\n",
    "y_train = labels[:30000]\n",
    "x_test = images[30000:]\n",
    "y_test = labels[30000:]"
   ]
  },
  {
   "cell_type": "code",
   "execution_count": 6,
   "metadata": {
    "scrolled": true
   },
   "outputs": [
    {
     "name": "stdout",
     "output_type": "stream",
     "text": [
      "Training data of x has 30000 rows and 784 columns\n",
      "Training data of y has 30000 rows and 1 columns\n",
      "Test data of x has 5000 rows and 784 columns\n",
      "Test data of y has 5000 rows and 1 columns\n"
     ]
    }
   ],
   "source": [
    "print('Training data of x has {} rows and {} columns'.format(x_train.shape[0], x_train.shape[1]))\n",
    "print('Training data of y has {} rows and {} columns'.format(y_train.shape[0], y_train.shape[1]))\n",
    "print('Test data of x has {} rows and {} columns'.format(x_test.shape[0], x_test.shape[1]))\n",
    "print('Test data of y has {} rows and {} columns'.format(y_test.shape[0], y_test.shape[1]))"
   ]
  },
  {
   "cell_type": "markdown",
   "metadata": {},
   "source": [
    "## Question 4"
   ]
  },
  {
   "cell_type": "markdown",
   "metadata": {},
   "source": [
    "### Number of classes was assigned to variable K in order to parametrize the code."
   ]
  },
  {
   "cell_type": "code",
   "execution_count": 7,
   "metadata": {},
   "outputs": [],
   "source": [
    "#Taking number of classes\n",
    "K = np.max(labels['classes'])"
   ]
  },
  {
   "cell_type": "markdown",
   "metadata": {},
   "source": [
    "### Parameters for the score function (sample means, sample deviation, and class sizes) were calculated."
   ]
  },
  {
   "cell_type": "code",
   "execution_count": 8,
   "metadata": {
    "scrolled": true
   },
   "outputs": [
    {
     "name": "stdout",
     "output_type": "stream",
     "text": [
      "Sample means: [[254.99866667 254.98416667 254.85616667 ... 254.679      254.87816667\n",
      "  254.95933333]\n",
      " [254.99733333 254.99733333 254.9965     ... 254.96883333 254.99216667\n",
      "  254.98866667]\n",
      " [254.99933333 254.99933333 254.99233333 ... 251.52483333 254.4725\n",
      "  254.97483333]\n",
      " [254.99666667 254.98983333 254.91416667 ... 252.39516667 254.44166667\n",
      "  254.93666667]\n",
      " [254.999      254.98433333 254.93783333 ... 250.673      253.23333333\n",
      "  254.79083333]]\n"
     ]
    }
   ],
   "source": [
    "#Calculating sample means\n",
    "\n",
    "sample_means = np.array([x_train[y_train['classes']==i].mean() for i in range(1,K+1)])\n",
    "print(\"Sample means: {}\".format(sample_means))"
   ]
  },
  {
   "cell_type": "code",
   "execution_count": 9,
   "metadata": {},
   "outputs": [
    {
     "name": "stdout",
     "output_type": "stream",
     "text": [
      "Sample deviations: [[ 0.09127736  0.25609108  1.31090756 ...  5.29826629  3.9117332\n",
      "   1.93959091]\n",
      " [ 0.2065419   0.2065419   0.2163818  ...  1.04076669  0.47057267\n",
      "   0.70062226]\n",
      " [ 0.05163547  0.04081939  0.16002465 ... 18.43665868  6.7881694\n",
      "   1.1061344 ]\n",
      " [ 0.18436076  0.21617116  1.81046936 ... 15.67799977  6.34549162\n",
      "   1.79971911]\n",
      " [ 0.04471018  0.64582342  3.03248555 ... 23.62576428 13.9167006\n",
      "   4.4727787 ]]\n"
     ]
    }
   ],
   "source": [
    "#Calculating sample deviations\n",
    "\n",
    "sample_deviations = np.array([np.sqrt(((x_train[y_train['classes'] == i+1] - sample_means[i])**2).mean()) for i in range(K)])\n",
    "print(\"Sample deviations: {}\".format(sample_deviations))"
   ]
  },
  {
   "cell_type": "code",
   "execution_count": 10,
   "metadata": {},
   "outputs": [
    {
     "name": "stdout",
     "output_type": "stream",
     "text": [
      "Class priors: [[0.2]\n",
      " [0.2]\n",
      " [0.2]\n",
      " [0.2]\n",
      " [0.2]]\n"
     ]
    }
   ],
   "source": [
    "#Calculating class priors\n",
    "\n",
    "class_priors = np.array([np.mean(y_train == (i)) for i in range(1,K+1)])\n",
    "print(\"Class priors: {}\".format(class_priors))"
   ]
  },
  {
   "cell_type": "markdown",
   "metadata": {},
   "source": [
    "## Question 5:"
   ]
  },
  {
   "cell_type": "markdown",
   "metadata": {},
   "source": [
    "### With Naive Bayes' Classifier, score function can be calculated as: \n",
    "![title](equation.png)"
   ]
  },
  {
   "cell_type": "code",
   "execution_count": 11,
   "metadata": {},
   "outputs": [],
   "source": [
    "#Turning df into an array\n",
    "x_train_array = np.array(x_train)\n",
    "x_test_array = np.array(x_test)"
   ]
  },
  {
   "cell_type": "code",
   "execution_count": 12,
   "metadata": {},
   "outputs": [],
   "source": [
    "#Calculating the score function for train set\n",
    "\n",
    "def score_func(x,sample_means,sample_deviations, class_priors):\n",
    "    return [np.sum((-0.5*safelog(2*np.pi*(sample_deviations[i]**2)))\n",
    "                  -(((x_train_array[c]-sample_means[i])**2)/(2*(sample_deviations[i]**2))))+ safelog(class_priors[i]) for i in range(K)]"
   ]
  },
  {
   "cell_type": "markdown",
   "metadata": {},
   "source": [
    "###  Maximum value among the score functions was taken by argmax function."
   ]
  },
  {
   "cell_type": "code",
   "execution_count": 13,
   "metadata": {},
   "outputs": [
    {
     "data": {
      "text/plain": [
       "array([3, 1, 2, ..., 1, 3, 5])"
      ]
     },
     "execution_count": 13,
     "metadata": {},
     "output_type": "execute_result"
    }
   ],
   "source": [
    "#Assigning each row of dataset its prediction class with argmax function \n",
    "\n",
    "x_train_score = np.zeros((x_train_array.shape[0],K))\n",
    "\n",
    "for c in range(x_train_array.shape[0]):\n",
    "    x_train_score[c] = score_func(x_train,sample_means,sample_deviations, class_priors)\n",
    "\n",
    "y_train_predicted = np.argmax(x_train_score, axis=1)+1\n",
    "y_train_predicted"
   ]
  },
  {
   "cell_type": "markdown",
   "metadata": {},
   "source": [
    "### The confusion matrix for training data set included predictions for 5 classes and it gave accurate results."
   ]
  },
  {
   "cell_type": "code",
   "execution_count": 14,
   "metadata": {},
   "outputs": [
    {
     "data": {
      "text/html": [
       "<div>\n",
       "<style scoped>\n",
       "    .dataframe tbody tr th:only-of-type {\n",
       "        vertical-align: middle;\n",
       "    }\n",
       "\n",
       "    .dataframe tbody tr th {\n",
       "        vertical-align: top;\n",
       "    }\n",
       "\n",
       "    .dataframe thead th {\n",
       "        text-align: right;\n",
       "    }\n",
       "</style>\n",
       "<table border=\"1\" class=\"dataframe\">\n",
       "  <thead>\n",
       "    <tr style=\"text-align: right;\">\n",
       "      <th>y_truth</th>\n",
       "      <th>1</th>\n",
       "      <th>2</th>\n",
       "      <th>3</th>\n",
       "      <th>4</th>\n",
       "      <th>5</th>\n",
       "    </tr>\n",
       "    <tr>\n",
       "      <th>y_pred</th>\n",
       "      <th></th>\n",
       "      <th></th>\n",
       "      <th></th>\n",
       "      <th></th>\n",
       "      <th></th>\n",
       "    </tr>\n",
       "  </thead>\n",
       "  <tbody>\n",
       "    <tr>\n",
       "      <th>1</th>\n",
       "      <td>3685</td>\n",
       "      <td>49</td>\n",
       "      <td>4</td>\n",
       "      <td>679</td>\n",
       "      <td>6</td>\n",
       "    </tr>\n",
       "    <tr>\n",
       "      <th>2</th>\n",
       "      <td>1430</td>\n",
       "      <td>5667</td>\n",
       "      <td>1140</td>\n",
       "      <td>1380</td>\n",
       "      <td>532</td>\n",
       "    </tr>\n",
       "    <tr>\n",
       "      <th>3</th>\n",
       "      <td>508</td>\n",
       "      <td>208</td>\n",
       "      <td>4670</td>\n",
       "      <td>2948</td>\n",
       "      <td>893</td>\n",
       "    </tr>\n",
       "    <tr>\n",
       "      <th>4</th>\n",
       "      <td>234</td>\n",
       "      <td>60</td>\n",
       "      <td>123</td>\n",
       "      <td>687</td>\n",
       "      <td>180</td>\n",
       "    </tr>\n",
       "    <tr>\n",
       "      <th>5</th>\n",
       "      <td>143</td>\n",
       "      <td>16</td>\n",
       "      <td>63</td>\n",
       "      <td>306</td>\n",
       "      <td>4389</td>\n",
       "    </tr>\n",
       "  </tbody>\n",
       "</table>\n",
       "</div>"
      ],
      "text/plain": [
       "y_truth     1     2     3     4     5\n",
       "y_pred                               \n",
       "1        3685    49     4   679     6\n",
       "2        1430  5667  1140  1380   532\n",
       "3         508   208  4670  2948   893\n",
       "4         234    60   123   687   180\n",
       "5         143    16    63   306  4389"
      ]
     },
     "execution_count": 14,
     "metadata": {},
     "output_type": "execute_result"
    }
   ],
   "source": [
    "#Creating confusion matrix for train set \n",
    "confusion_matrix = pd.crosstab(y_train_predicted, np.array(y_train).reshape(30000,), rownames = ['y_pred'], colnames = ['y_truth'])\n",
    "confusion_matrix"
   ]
  },
  {
   "cell_type": "markdown",
   "metadata": {},
   "source": [
    "## Question 6:"
   ]
  },
  {
   "cell_type": "markdown",
   "metadata": {},
   "source": [
    "### Score function for test data set were calculated and argmax function was used in order to take the maximum score to determine the class the points belonged to."
   ]
  },
  {
   "cell_type": "code",
   "execution_count": 15,
   "metadata": {},
   "outputs": [],
   "source": [
    "#Calculating the score function for test set\n",
    "\n",
    "def score_func(x,sample_means,sample_deviations, class_priors):\n",
    "    return [np.sum((-0.5*safelog(2*np.pi*(sample_deviations[i]**2)))\n",
    "                  -(((x_test_array[c]-sample_means[i])**2)/(2*(sample_deviations[i]**2))))+ safelog(class_priors[i]) for i in range(K)]"
   ]
  },
  {
   "cell_type": "code",
   "execution_count": 16,
   "metadata": {},
   "outputs": [
    {
     "data": {
      "text/plain": [
       "array([1, 2, 5, ..., 3, 5, 5])"
      ]
     },
     "execution_count": 16,
     "metadata": {},
     "output_type": "execute_result"
    }
   ],
   "source": [
    "#Assigning each row of dataset its prediction class with argmax function \n",
    "\n",
    "x_test_score = np.zeros((x_test_array.shape[0],K))\n",
    "\n",
    "for c in range(x_test_array.shape[0]):\n",
    "    x_test_score[c] = score_func(x_test,sample_means,sample_deviations, class_priors)\n",
    "\n",
    "y_test_predicted = np.argmax(x_test_score, axis=1)+1\n",
    "y_test_predicted"
   ]
  },
  {
   "cell_type": "markdown",
   "metadata": {},
   "source": [
    "### The confusion matrix for test data set included predictions for 5 classes and it gave accurate results."
   ]
  },
  {
   "cell_type": "code",
   "execution_count": 17,
   "metadata": {},
   "outputs": [
    {
     "data": {
      "text/html": [
       "<div>\n",
       "<style scoped>\n",
       "    .dataframe tbody tr th:only-of-type {\n",
       "        vertical-align: middle;\n",
       "    }\n",
       "\n",
       "    .dataframe tbody tr th {\n",
       "        vertical-align: top;\n",
       "    }\n",
       "\n",
       "    .dataframe thead th {\n",
       "        text-align: right;\n",
       "    }\n",
       "</style>\n",
       "<table border=\"1\" class=\"dataframe\">\n",
       "  <thead>\n",
       "    <tr style=\"text-align: right;\">\n",
       "      <th>y_truth</th>\n",
       "      <th>1</th>\n",
       "      <th>2</th>\n",
       "      <th>3</th>\n",
       "      <th>4</th>\n",
       "      <th>5</th>\n",
       "    </tr>\n",
       "    <tr>\n",
       "      <th>y_pred</th>\n",
       "      <th></th>\n",
       "      <th></th>\n",
       "      <th></th>\n",
       "      <th></th>\n",
       "      <th></th>\n",
       "    </tr>\n",
       "  </thead>\n",
       "  <tbody>\n",
       "    <tr>\n",
       "      <th>1</th>\n",
       "      <td>597</td>\n",
       "      <td>6</td>\n",
       "      <td>0</td>\n",
       "      <td>114</td>\n",
       "      <td>1</td>\n",
       "    </tr>\n",
       "    <tr>\n",
       "      <th>2</th>\n",
       "      <td>237</td>\n",
       "      <td>955</td>\n",
       "      <td>188</td>\n",
       "      <td>267</td>\n",
       "      <td>81</td>\n",
       "    </tr>\n",
       "    <tr>\n",
       "      <th>3</th>\n",
       "      <td>92</td>\n",
       "      <td>25</td>\n",
       "      <td>785</td>\n",
       "      <td>462</td>\n",
       "      <td>167</td>\n",
       "    </tr>\n",
       "    <tr>\n",
       "      <th>4</th>\n",
       "      <td>34</td>\n",
       "      <td>11</td>\n",
       "      <td>16</td>\n",
       "      <td>109</td>\n",
       "      <td>29</td>\n",
       "    </tr>\n",
       "    <tr>\n",
       "      <th>5</th>\n",
       "      <td>40</td>\n",
       "      <td>3</td>\n",
       "      <td>11</td>\n",
       "      <td>48</td>\n",
       "      <td>722</td>\n",
       "    </tr>\n",
       "  </tbody>\n",
       "</table>\n",
       "</div>"
      ],
      "text/plain": [
       "y_truth    1    2    3    4    5\n",
       "y_pred                          \n",
       "1        597    6    0  114    1\n",
       "2        237  955  188  267   81\n",
       "3         92   25  785  462  167\n",
       "4         34   11   16  109   29\n",
       "5         40    3   11   48  722"
      ]
     },
     "execution_count": 17,
     "metadata": {},
     "output_type": "execute_result"
    }
   ],
   "source": [
    "#Creating confusion matrix for test set\n",
    "confusion_matrix = pd.crosstab(y_test_predicted, np.array(y_test).reshape(5000,), rownames = ['y_pred'], colnames = ['y_truth'])\n",
    "confusion_matrix"
   ]
  }
 ],
 "metadata": {
  "kernelspec": {
   "display_name": "Python 3",
   "language": "python",
   "name": "python3"
  },
  "language_info": {
   "codemirror_mode": {
    "name": "ipython",
    "version": 3
   },
   "file_extension": ".py",
   "mimetype": "text/x-python",
   "name": "python",
   "nbconvert_exporter": "python",
   "pygments_lexer": "ipython3",
   "version": "3.8.5"
  }
 },
 "nbformat": 4,
 "nbformat_minor": 4
}
